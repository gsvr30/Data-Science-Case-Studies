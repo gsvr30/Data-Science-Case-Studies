{
 "cells": [
  {
   "cell_type": "markdown",
   "metadata": {},
   "source": [
    "<h2> Case Study: Predict Promotion Using Boosting Techniques On Tech Company Data </h2>\n",
    "\n",
    "In this case study, we will use the Tech company dataset to solve a classification problem using Bagging and Boosting Techniques."
   ]
  },
  {
   "cell_type": "markdown",
   "metadata": {},
   "source": [
    "## Problem Statement\n",
    "\n",
    "<b>Palmer Tech</b> is a tech company supported by 90,000+ employees. They are now facing a dilemma - they do not know who their best employees are. Instead of relying on managers' perceptions and biases, they want to use machine learning to identify the right <b>promotion candidates.</b>"
   ]
  },
  {
   "cell_type": "code",
   "execution_count": 1,
   "metadata": {
    "colab": {},
    "colab_type": "code",
    "id": "hqndbcMR567T"
   },
   "outputs": [],
   "source": [
    "#Import the required libraries\n",
    "import pandas as pd\n",
    "import pandas_profiling\n",
    "import dask.dataframe as dd\n",
    "pd.options.display.max_columns=False\n",
    "import numpy as np\n",
    "import matplotlib.pyplot as plt\n",
    "import seaborn as sns\n",
    "from sklearn.model_selection import train_test_split,GridSearchCV,cross_val_score\n",
    "from sklearn.ensemble import RandomForestRegressor\n",
    "from sklearn.tree import DecisionTreeRegressor\n",
    "from sklearn.linear_model import LogisticRegression\n",
    "from sklearn.metrics import mean_squared_error\n",
    "from sklearn import metrics\n",
    "%matplotlib inline"
   ]
  },
  {
   "cell_type": "code",
   "execution_count": 2,
   "metadata": {},
   "outputs": [
    {
     "data": {
      "text/html": [
       "<div>\n",
       "<style scoped>\n",
       "    .dataframe tbody tr th:only-of-type {\n",
       "        vertical-align: middle;\n",
       "    }\n",
       "\n",
       "    .dataframe tbody tr th {\n",
       "        vertical-align: top;\n",
       "    }\n",
       "\n",
       "    .dataframe thead th {\n",
       "        text-align: right;\n",
       "    }\n",
       "</style>\n",
       "<table border=\"1\" class=\"dataframe\">\n",
       "  <thead>\n",
       "    <tr style=\"text-align: right;\">\n",
       "      <th></th>\n",
       "      <th>employee_id</th>\n",
       "      <th>department</th>\n",
       "      <th>region</th>\n",
       "      <th>education</th>\n",
       "      <th>gender</th>\n",
       "      <th>recruitment_channel</th>\n",
       "      <th>no_of_trainings</th>\n",
       "      <th>age</th>\n",
       "      <th>previous_year_rating</th>\n",
       "      <th>length_of_service</th>\n",
       "      <th>KPIs_met &gt;80%</th>\n",
       "      <th>awards_won?</th>\n",
       "      <th>avg_training_score</th>\n",
       "      <th>is_promoted</th>\n",
       "    </tr>\n",
       "  </thead>\n",
       "  <tbody>\n",
       "    <tr>\n",
       "      <th>0</th>\n",
       "      <td>65438</td>\n",
       "      <td>Sales &amp; Marketing</td>\n",
       "      <td>region_7</td>\n",
       "      <td>Master's &amp; above</td>\n",
       "      <td>f</td>\n",
       "      <td>sourcing</td>\n",
       "      <td>1</td>\n",
       "      <td>35</td>\n",
       "      <td>5.0</td>\n",
       "      <td>8</td>\n",
       "      <td>1</td>\n",
       "      <td>0</td>\n",
       "      <td>49</td>\n",
       "      <td>0</td>\n",
       "    </tr>\n",
       "    <tr>\n",
       "      <th>1</th>\n",
       "      <td>65141</td>\n",
       "      <td>Operations</td>\n",
       "      <td>region_22</td>\n",
       "      <td>Bachelor's</td>\n",
       "      <td>m</td>\n",
       "      <td>other</td>\n",
       "      <td>1</td>\n",
       "      <td>30</td>\n",
       "      <td>5.0</td>\n",
       "      <td>4</td>\n",
       "      <td>0</td>\n",
       "      <td>0</td>\n",
       "      <td>60</td>\n",
       "      <td>0</td>\n",
       "    </tr>\n",
       "    <tr>\n",
       "      <th>2</th>\n",
       "      <td>7513</td>\n",
       "      <td>Sales &amp; Marketing</td>\n",
       "      <td>region_19</td>\n",
       "      <td>Bachelor's</td>\n",
       "      <td>m</td>\n",
       "      <td>sourcing</td>\n",
       "      <td>1</td>\n",
       "      <td>34</td>\n",
       "      <td>3.0</td>\n",
       "      <td>7</td>\n",
       "      <td>0</td>\n",
       "      <td>0</td>\n",
       "      <td>50</td>\n",
       "      <td>0</td>\n",
       "    </tr>\n",
       "    <tr>\n",
       "      <th>3</th>\n",
       "      <td>2542</td>\n",
       "      <td>Sales &amp; Marketing</td>\n",
       "      <td>region_23</td>\n",
       "      <td>Bachelor's</td>\n",
       "      <td>m</td>\n",
       "      <td>other</td>\n",
       "      <td>2</td>\n",
       "      <td>39</td>\n",
       "      <td>1.0</td>\n",
       "      <td>10</td>\n",
       "      <td>0</td>\n",
       "      <td>0</td>\n",
       "      <td>50</td>\n",
       "      <td>0</td>\n",
       "    </tr>\n",
       "    <tr>\n",
       "      <th>4</th>\n",
       "      <td>48945</td>\n",
       "      <td>Technology</td>\n",
       "      <td>region_26</td>\n",
       "      <td>Bachelor's</td>\n",
       "      <td>m</td>\n",
       "      <td>other</td>\n",
       "      <td>1</td>\n",
       "      <td>45</td>\n",
       "      <td>3.0</td>\n",
       "      <td>2</td>\n",
       "      <td>0</td>\n",
       "      <td>0</td>\n",
       "      <td>73</td>\n",
       "      <td>0</td>\n",
       "    </tr>\n",
       "  </tbody>\n",
       "</table>\n",
       "</div>"
      ],
      "text/plain": [
       "   employee_id         department  ... avg_training_score is_promoted\n",
       "0        65438  Sales & Marketing  ...                 49           0\n",
       "1        65141         Operations  ...                 60           0\n",
       "2         7513  Sales & Marketing  ...                 50           0\n",
       "3         2542  Sales & Marketing  ...                 50           0\n",
       "4        48945         Technology  ...                 73           0\n",
       "\n",
       "[5 rows x 14 columns]"
      ]
     },
     "execution_count": 2,
     "metadata": {},
     "output_type": "execute_result"
    }
   ],
   "source": [
    "#Import the data set\n",
    "pm_data = pd.read_csv('palmertech.csv')\n",
    "pm_data.head()"
   ]
  },
  {
   "cell_type": "code",
   "execution_count": 3,
   "metadata": {
    "colab": {
     "base_uri": "https://localhost:8080/",
     "height": 34
    },
    "colab_type": "code",
    "executionInfo": {
     "elapsed": 49113,
     "status": "ok",
     "timestamp": 1564139560816,
     "user": {
      "displayName": "Avinash Beck",
      "photoUrl": "",
      "userId": "14043619463729052163"
     },
     "user_tz": -330
    },
    "id": "YjbSvEyT567q",
    "outputId": "c2429f45-0f6d-4a03-f766-2f8480dd4358"
   },
   "outputs": [
    {
     "data": {
      "text/plain": [
       "(54808, 14)"
      ]
     },
     "execution_count": 3,
     "metadata": {},
     "output_type": "execute_result"
    }
   ],
   "source": [
    "pm_data.shape"
   ]
  },
  {
   "cell_type": "markdown",
   "metadata": {
    "colab_type": "text",
    "id": "GrHB2qH16wlL"
   },
   "source": [
    "**Performing Exploratory Data Analysis**"
   ]
  },
  {
   "cell_type": "code",
   "execution_count": 4,
   "metadata": {
    "colab": {
     "base_uri": "https://localhost:8080/",
     "height": 545
    },
    "colab_type": "code",
    "executionInfo": {
     "elapsed": 49817,
     "status": "ok",
     "timestamp": 1564139561571,
     "user": {
      "displayName": "Avinash Beck",
      "photoUrl": "",
      "userId": "14043619463729052163"
     },
     "user_tz": -330
    },
    "id": "493Na-vi567-",
    "outputId": "64a5b1c6-ccb1-4cdd-cbe9-f4cb80fba494",
    "scrolled": true
   },
   "outputs": [
    {
     "name": "stdout",
     "output_type": "stream",
     "text": [
      "<class 'pandas.core.frame.DataFrame'>\n",
      "RangeIndex: 54808 entries, 0 to 54807\n",
      "Data columns (total 14 columns):\n",
      "employee_id             54808 non-null int64\n",
      "department              54808 non-null object\n",
      "region                  54808 non-null object\n",
      "education               52399 non-null object\n",
      "gender                  54808 non-null object\n",
      "recruitment_channel     54808 non-null object\n",
      "no_of_trainings         54808 non-null int64\n",
      "age                     54808 non-null int64\n",
      "previous_year_rating    50684 non-null float64\n",
      "length_of_service       54808 non-null int64\n",
      "KPIs_met >80%           54808 non-null int64\n",
      "awards_won?             54808 non-null int64\n",
      "avg_training_score      54808 non-null int64\n",
      "is_promoted             54808 non-null int64\n",
      "dtypes: float64(1), int64(8), object(5)\n",
      "memory usage: 5.9+ MB\n"
     ]
    }
   ],
   "source": [
    "pm_data.info()                                                                                "
   ]
  },
  {
   "cell_type": "markdown",
   "metadata": {},
   "source": [
    "We can see that there are missing values in the `previous_year_rating` and `education` columns. For the first iteration, we will drop the missing values as they constitute only about <b>10% of the data.</b>"
   ]
  },
  {
   "cell_type": "code",
   "execution_count": 4,
   "metadata": {},
   "outputs": [],
   "source": [
    "pm_data.dropna(inplace=True)"
   ]
  },
  {
   "cell_type": "code",
   "execution_count": 6,
   "metadata": {},
   "outputs": [
    {
     "name": "stdout",
     "output_type": "stream",
     "text": [
      "<class 'pandas.core.frame.DataFrame'>\n",
      "Int64Index: 48660 entries, 0 to 54807\n",
      "Data columns (total 14 columns):\n",
      "employee_id             48660 non-null int64\n",
      "department              48660 non-null object\n",
      "region                  48660 non-null object\n",
      "education               48660 non-null object\n",
      "gender                  48660 non-null object\n",
      "recruitment_channel     48660 non-null object\n",
      "no_of_trainings         48660 non-null int64\n",
      "age                     48660 non-null int64\n",
      "previous_year_rating    48660 non-null float64\n",
      "length_of_service       48660 non-null int64\n",
      "KPIs_met >80%           48660 non-null int64\n",
      "awards_won?             48660 non-null int64\n",
      "avg_training_score      48660 non-null int64\n",
      "is_promoted             48660 non-null int64\n",
      "dtypes: float64(1), int64(8), object(5)\n",
      "memory usage: 5.6+ MB\n"
     ]
    }
   ],
   "source": [
    "pm_data.info()"
   ]
  },
  {
   "cell_type": "markdown",
   "metadata": {},
   "source": [
    "Missing values have been handled. Now, let us analyze the <b>numerical</b> values in the dataset."
   ]
  },
  {
   "cell_type": "code",
   "execution_count": 7,
   "metadata": {},
   "outputs": [
    {
     "data": {
      "text/html": [
       "<div>\n",
       "<style scoped>\n",
       "    .dataframe tbody tr th:only-of-type {\n",
       "        vertical-align: middle;\n",
       "    }\n",
       "\n",
       "    .dataframe tbody tr th {\n",
       "        vertical-align: top;\n",
       "    }\n",
       "\n",
       "    .dataframe thead th {\n",
       "        text-align: right;\n",
       "    }\n",
       "</style>\n",
       "<table border=\"1\" class=\"dataframe\">\n",
       "  <thead>\n",
       "    <tr style=\"text-align: right;\">\n",
       "      <th></th>\n",
       "      <th>employee_id</th>\n",
       "      <th>no_of_trainings</th>\n",
       "      <th>age</th>\n",
       "      <th>previous_year_rating</th>\n",
       "      <th>length_of_service</th>\n",
       "      <th>KPIs_met &gt;80%</th>\n",
       "      <th>awards_won?</th>\n",
       "      <th>avg_training_score</th>\n",
       "      <th>is_promoted</th>\n",
       "    </tr>\n",
       "  </thead>\n",
       "  <tbody>\n",
       "    <tr>\n",
       "      <th>count</th>\n",
       "      <td>48660.000000</td>\n",
       "      <td>48660.000000</td>\n",
       "      <td>48660.000000</td>\n",
       "      <td>48660.000000</td>\n",
       "      <td>48660.00000</td>\n",
       "      <td>48660.000000</td>\n",
       "      <td>48660.00000</td>\n",
       "      <td>48660.000000</td>\n",
       "      <td>48660.000000</td>\n",
       "    </tr>\n",
       "    <tr>\n",
       "      <th>mean</th>\n",
       "      <td>39169.271681</td>\n",
       "      <td>1.251993</td>\n",
       "      <td>35.589437</td>\n",
       "      <td>3.337526</td>\n",
       "      <td>6.31157</td>\n",
       "      <td>0.356473</td>\n",
       "      <td>0.02314</td>\n",
       "      <td>63.603309</td>\n",
       "      <td>0.086971</td>\n",
       "    </tr>\n",
       "    <tr>\n",
       "      <th>std</th>\n",
       "      <td>22630.461554</td>\n",
       "      <td>0.604994</td>\n",
       "      <td>7.534571</td>\n",
       "      <td>1.257922</td>\n",
       "      <td>4.20476</td>\n",
       "      <td>0.478962</td>\n",
       "      <td>0.15035</td>\n",
       "      <td>13.273502</td>\n",
       "      <td>0.281795</td>\n",
       "    </tr>\n",
       "    <tr>\n",
       "      <th>min</th>\n",
       "      <td>1.000000</td>\n",
       "      <td>1.000000</td>\n",
       "      <td>20.000000</td>\n",
       "      <td>1.000000</td>\n",
       "      <td>1.00000</td>\n",
       "      <td>0.000000</td>\n",
       "      <td>0.00000</td>\n",
       "      <td>39.000000</td>\n",
       "      <td>0.000000</td>\n",
       "    </tr>\n",
       "    <tr>\n",
       "      <th>25%</th>\n",
       "      <td>19563.500000</td>\n",
       "      <td>1.000000</td>\n",
       "      <td>30.000000</td>\n",
       "      <td>3.000000</td>\n",
       "      <td>3.00000</td>\n",
       "      <td>0.000000</td>\n",
       "      <td>0.00000</td>\n",
       "      <td>51.000000</td>\n",
       "      <td>0.000000</td>\n",
       "    </tr>\n",
       "    <tr>\n",
       "      <th>50%</th>\n",
       "      <td>39154.000000</td>\n",
       "      <td>1.000000</td>\n",
       "      <td>34.000000</td>\n",
       "      <td>3.000000</td>\n",
       "      <td>5.00000</td>\n",
       "      <td>0.000000</td>\n",
       "      <td>0.00000</td>\n",
       "      <td>60.000000</td>\n",
       "      <td>0.000000</td>\n",
       "    </tr>\n",
       "    <tr>\n",
       "      <th>75%</th>\n",
       "      <td>58788.250000</td>\n",
       "      <td>1.000000</td>\n",
       "      <td>39.000000</td>\n",
       "      <td>4.000000</td>\n",
       "      <td>8.00000</td>\n",
       "      <td>1.000000</td>\n",
       "      <td>0.00000</td>\n",
       "      <td>76.000000</td>\n",
       "      <td>0.000000</td>\n",
       "    </tr>\n",
       "    <tr>\n",
       "      <th>max</th>\n",
       "      <td>78298.000000</td>\n",
       "      <td>10.000000</td>\n",
       "      <td>60.000000</td>\n",
       "      <td>5.000000</td>\n",
       "      <td>37.00000</td>\n",
       "      <td>1.000000</td>\n",
       "      <td>1.00000</td>\n",
       "      <td>99.000000</td>\n",
       "      <td>1.000000</td>\n",
       "    </tr>\n",
       "  </tbody>\n",
       "</table>\n",
       "</div>"
      ],
      "text/plain": [
       "        employee_id  no_of_trainings           age  ...  awards_won?  avg_training_score   is_promoted\n",
       "count  48660.000000     48660.000000  48660.000000  ...  48660.00000        48660.000000  48660.000000\n",
       "mean   39169.271681         1.251993     35.589437  ...      0.02314           63.603309      0.086971\n",
       "std    22630.461554         0.604994      7.534571  ...      0.15035           13.273502      0.281795\n",
       "min        1.000000         1.000000     20.000000  ...      0.00000           39.000000      0.000000\n",
       "25%    19563.500000         1.000000     30.000000  ...      0.00000           51.000000      0.000000\n",
       "50%    39154.000000         1.000000     34.000000  ...      0.00000           60.000000      0.000000\n",
       "75%    58788.250000         1.000000     39.000000  ...      0.00000           76.000000      0.000000\n",
       "max    78298.000000        10.000000     60.000000  ...      1.00000           99.000000      1.000000\n",
       "\n",
       "[8 rows x 9 columns]"
      ]
     },
     "execution_count": 7,
     "metadata": {},
     "output_type": "execute_result"
    }
   ],
   "source": [
    "pm_data.describe()"
   ]
  },
  {
   "cell_type": "markdown",
   "metadata": {},
   "source": [
    "You can see that only the `age`,`no_of_trainings`,`length_of_service` columns contain <b>continuous</b> values. Let us see these columns in more detail. "
   ]
  },
  {
   "cell_type": "code",
   "execution_count": 8,
   "metadata": {},
   "outputs": [
    {
     "data": {
      "image/png": "[encoded data removed]",
      "text/plain": [
       "<Figure size 792x648 with 3 Axes>"
      ]
     },
     "metadata": {
      "needs_background": "light"
     },
     "output_type": "display_data"
    }
   ],
   "source": [
    "#Checking the box plot of the first 6 columns\n",
    "plt.figure(figsize=[11,9])\n",
    "plt.subplot(131)\n",
    "sns.boxplot(pm_data.iloc[:,6],color='r')\n",
    "plt.subplot(132)\n",
    "sns.boxplot(pm_data.iloc[:,7],color='g')\n",
    "plt.subplot(133)\n",
    "sns.boxplot(pm_data.iloc[:,9],color='b')\n",
    "plt.tight_layout()\n",
    "plt.show()"
   ]
  },
  {
   "cell_type": "markdown",
   "metadata": {},
   "source": [
    "`age` and `length_of_service` contain a lot of outliers. They have be scaled. "
   ]
  },
  {
   "cell_type": "markdown",
   "metadata": {},
   "source": [
    "<b>Scaling the input features</b>"
   ]
  },
  {
   "cell_type": "markdown",
   "metadata": {},
   "source": [
    "Let us first analyze the distribution of data in these two columns"
   ]
  },
  {
   "cell_type": "code",
   "execution_count": 9,
   "metadata": {},
   "outputs": [
    {
     "data": {
      "text/plain": [
       "<matplotlib.axes._subplots.AxesSubplot at 0x1c9d53587f0>"
      ]
     },
     "execution_count": 9,
     "metadata": {},
     "output_type": "execute_result"
    },
    {
     "data": {
      "image/png": "[encoded data removed]",
      "text/plain": [
       "<Figure size 432x288 with 1 Axes>"
      ]
     },
     "metadata": {
      "needs_background": "light"
     },
     "output_type": "display_data"
    }
   ],
   "source": [
    "sns.distplot(pm_data['age'])"
   ]
  },
  {
   "cell_type": "code",
   "execution_count": 10,
   "metadata": {},
   "outputs": [
    {
     "data": {
      "text/plain": [
       "<matplotlib.axes._subplots.AxesSubplot at 0x1c9d6015ba8>"
      ]
     },
     "execution_count": 10,
     "metadata": {},
     "output_type": "execute_result"
    },
    {
     "data": {
      "image/png": "[encoded data removed]",
      "text/plain": [
       "<Figure size 432x288 with 1 Axes>"
      ]
     },
     "metadata": {
      "needs_background": "light"
     },
     "output_type": "display_data"
    }
   ],
   "source": [
    "sns.distplot(pm_data['length_of_service'])"
   ]
  },
  {
   "cell_type": "markdown",
   "metadata": {},
   "source": [
    "`age` seems to be following a perfect <b>normal distribution</b> whereas `length_of_service` seems to have a skewed distribution. Let us normalize both these columns by using <b>Z-scores.</b>"
   ]
  },
  {
   "cell_type": "code",
   "execution_count": 5,
   "metadata": {},
   "outputs": [],
   "source": [
    "pm_data_norm = pm_data[['age','length_of_service']]"
   ]
  },
  {
   "cell_type": "code",
   "execution_count": 6,
   "metadata": {},
   "outputs": [],
   "source": [
    "from sklearn.preprocessing import StandardScaler\n",
    "X_std = StandardScaler().fit_transform(pm_data_norm)"
   ]
  },
  {
   "cell_type": "code",
   "execution_count": 13,
   "metadata": {},
   "outputs": [
    {
     "data": {
      "text/plain": [
       "array([[-0.07823179,  0.40155619],\n",
       "       [-0.74184639, -0.54975648],\n",
       "       [-0.21095471,  0.16372803],\n",
       "       ...,\n",
       "       [ 0.18721405, -0.07410014],\n",
       "       [-1.14001516, -0.78758464],\n",
       "       [-1.14001516, -0.31192831]])"
      ]
     },
     "execution_count": 13,
     "metadata": {},
     "output_type": "execute_result"
    }
   ],
   "source": [
    "X_std"
   ]
  },
  {
   "cell_type": "code",
   "execution_count": 7,
   "metadata": {},
   "outputs": [],
   "source": [
    "fdf_normalized = pd.DataFrame(data=X_std, index=pm_data_norm.index, columns=pm_data_norm.columns)"
   ]
  },
  {
   "cell_type": "markdown",
   "metadata": {},
   "source": [
    "Let us now analyze <b>Categorical</b> columns"
   ]
  },
  {
   "cell_type": "markdown",
   "metadata": {},
   "source": [
    "Convert the `is_promoted` column to a <b>categorical</b> column"
   ]
  },
  {
   "cell_type": "code",
   "execution_count": 8,
   "metadata": {},
   "outputs": [],
   "source": [
    "pm_data['is_promoted'] = pd.Categorical(pm_data['is_promoted']).codes"
   ]
  },
  {
   "cell_type": "code",
   "execution_count": 16,
   "metadata": {},
   "outputs": [
    {
     "name": "stdout",
     "output_type": "stream",
     "text": [
      "<class 'pandas.core.frame.DataFrame'>\n",
      "Int64Index: 48660 entries, 0 to 54807\n",
      "Data columns (total 14 columns):\n",
      "employee_id             48660 non-null int64\n",
      "department              48660 non-null object\n",
      "region                  48660 non-null object\n",
      "education               48660 non-null object\n",
      "gender                  48660 non-null object\n",
      "recruitment_channel     48660 non-null object\n",
      "no_of_trainings         48660 non-null int64\n",
      "age                     48660 non-null int64\n",
      "previous_year_rating    48660 non-null float64\n",
      "length_of_service       48660 non-null int64\n",
      "KPIs_met >80%           48660 non-null int64\n",
      "awards_won?             48660 non-null int64\n",
      "avg_training_score      48660 non-null int64\n",
      "is_promoted             48660 non-null int8\n",
      "dtypes: float64(1), int64(7), int8(1), object(5)\n",
      "memory usage: 5.2+ MB\n"
     ]
    }
   ],
   "source": [
    "pm_data.info()"
   ]
  },
  {
   "cell_type": "markdown",
   "metadata": {},
   "source": [
    "<b>Data Visualizations</b>"
   ]
  },
  {
   "cell_type": "code",
   "execution_count": 17,
   "metadata": {},
   "outputs": [
    {
     "data": {
      "text/plain": [
       "<matplotlib.axes._subplots.AxesSubplot at 0x1c9d610a6d8>"
      ]
     },
     "execution_count": 17,
     "metadata": {},
     "output_type": "execute_result"
    },
    {
     "data": {
      "image/png": "[encoded data removed]",
      "text/plain": [
       "<Figure size 432x288 with 1 Axes>"
      ]
     },
     "metadata": {
      "needs_background": "light"
     },
     "output_type": "display_data"
    }
   ],
   "source": [
    "sns.countplot(x='is_promoted',data=pm_data)"
   ]
  },
  {
   "cell_type": "markdown",
   "metadata": {},
   "source": [
    "We are dealing with an <b>imbalanced</b> dataset"
   ]
  },
  {
   "cell_type": "code",
   "execution_count": 19,
   "metadata": {},
   "outputs": [
    {
     "data": {
      "image/png": "[encoded data removed]",
      "text/plain": [
       "<Figure size 432x288 with 1 Axes>"
      ]
     },
     "metadata": {
      "needs_background": "light"
     },
     "output_type": "display_data"
    }
   ],
   "source": [
    "#Relation between Age and Promotion\n",
    "sns.boxplot(x='is_promoted', y='age', data=pm_data)\n",
    "plt.show()"
   ]
  },
  {
   "cell_type": "markdown",
   "metadata": {},
   "source": [
    "Observation: `age` seems to have <b>minimal</b> impact on the promotion"
   ]
  },
  {
   "cell_type": "code",
   "execution_count": 20,
   "metadata": {},
   "outputs": [
    {
     "data": {
      "image/png": "[encoded data removed]",
      "text/plain": [
       "<Figure size 432x288 with 1 Axes>"
      ]
     },
     "metadata": {
      "needs_background": "light"
     },
     "output_type": "display_data"
    }
   ],
   "source": [
    "#Gender analysis\n",
    "sns.countplot(x='gender', data=pm_data, hue='is_promoted')\n",
    "plt.show()"
   ]
  },
  {
   "cell_type": "markdown",
   "metadata": {},
   "source": [
    "Observation: You can see that there are more <b>male</b> employees than female employees in the dataset. Also the proportion of employees promoted seems to be more or less the <b>same</b> across both the genders."
   ]
  },
  {
   "cell_type": "code",
   "execution_count": 21,
   "metadata": {},
   "outputs": [
    {
     "data": {
      "text/plain": [
       "<matplotlib.axes._subplots.AxesSubplot at 0x1c9d61c20b8>"
      ]
     },
     "execution_count": 21,
     "metadata": {},
     "output_type": "execute_result"
    },
    {
     "data": {
      "image/png": "[encoded data removed]",
      "text/plain": [
       "<Figure size 432x288 with 1 Axes>"
      ]
     },
     "metadata": {
      "needs_background": "light"
     },
     "output_type": "display_data"
    }
   ],
   "source": [
    "#Education analysis\n",
    "sns.countplot(x='education',data=pm_data,hue='is_promoted')"
   ]
  },
  {
   "cell_type": "markdown",
   "metadata": {},
   "source": [
    "<b>Observation:</b> People with <b>Below Secondary</b> education have not been promoted"
   ]
  },
  {
   "cell_type": "markdown",
   "metadata": {},
   "source": [
    "## Feature Engineering"
   ]
  },
  {
   "cell_type": "markdown",
   "metadata": {},
   "source": [
    "Convert <b>Categorical</b> columns to dummy variables."
   ]
  },
  {
   "cell_type": "code",
   "execution_count": 9,
   "metadata": {},
   "outputs": [],
   "source": [
    "cols=['department','education','gender','recruitment_channel']                                                      # These are the categorical columns\n",
    "cat_cols=pm_data[cols]\n",
    "cat_cols=cat_cols.astype(str)"
   ]
  },
  {
   "cell_type": "code",
   "execution_count": 23,
   "metadata": {},
   "outputs": [
    {
     "data": {
      "text/html": [
       "<div>\n",
       "<style scoped>\n",
       "    .dataframe tbody tr th:only-of-type {\n",
       "        vertical-align: middle;\n",
       "    }\n",
       "\n",
       "    .dataframe tbody tr th {\n",
       "        vertical-align: top;\n",
       "    }\n",
       "\n",
       "    .dataframe thead th {\n",
       "        text-align: right;\n",
       "    }\n",
       "</style>\n",
       "<table border=\"1\" class=\"dataframe\">\n",
       "  <thead>\n",
       "    <tr style=\"text-align: right;\">\n",
       "      <th></th>\n",
       "      <th>department</th>\n",
       "      <th>education</th>\n",
       "      <th>gender</th>\n",
       "      <th>recruitment_channel</th>\n",
       "    </tr>\n",
       "  </thead>\n",
       "  <tbody>\n",
       "    <tr>\n",
       "      <th>0</th>\n",
       "      <td>Sales &amp; Marketing</td>\n",
       "      <td>Master's &amp; above</td>\n",
       "      <td>f</td>\n",
       "      <td>sourcing</td>\n",
       "    </tr>\n",
       "    <tr>\n",
       "      <th>1</th>\n",
       "      <td>Operations</td>\n",
       "      <td>Bachelor's</td>\n",
       "      <td>m</td>\n",
       "      <td>other</td>\n",
       "    </tr>\n",
       "    <tr>\n",
       "      <th>2</th>\n",
       "      <td>Sales &amp; Marketing</td>\n",
       "      <td>Bachelor's</td>\n",
       "      <td>m</td>\n",
       "      <td>sourcing</td>\n",
       "    </tr>\n",
       "    <tr>\n",
       "      <th>3</th>\n",
       "      <td>Sales &amp; Marketing</td>\n",
       "      <td>Bachelor's</td>\n",
       "      <td>m</td>\n",
       "      <td>other</td>\n",
       "    </tr>\n",
       "    <tr>\n",
       "      <th>4</th>\n",
       "      <td>Technology</td>\n",
       "      <td>Bachelor's</td>\n",
       "      <td>m</td>\n",
       "      <td>other</td>\n",
       "    </tr>\n",
       "  </tbody>\n",
       "</table>\n",
       "</div>"
      ],
      "text/plain": [
       "          department         education gender recruitment_channel\n",
       "0  Sales & Marketing  Master's & above      f            sourcing\n",
       "1         Operations        Bachelor's      m               other\n",
       "2  Sales & Marketing        Bachelor's      m            sourcing\n",
       "3  Sales & Marketing        Bachelor's      m               other\n",
       "4         Technology        Bachelor's      m               other"
      ]
     },
     "execution_count": 23,
     "metadata": {},
     "output_type": "execute_result"
    }
   ],
   "source": [
    "cat_cols.head()"
   ]
  },
  {
   "cell_type": "code",
   "execution_count": 10,
   "metadata": {},
   "outputs": [],
   "source": [
    "dummies=pd.get_dummies(cat_cols,drop_first=True)"
   ]
  },
  {
   "cell_type": "code",
   "execution_count": 25,
   "metadata": {},
   "outputs": [
    {
     "data": {
      "text/html": [
       "<div>\n",
       "<style scoped>\n",
       "    .dataframe tbody tr th:only-of-type {\n",
       "        vertical-align: middle;\n",
       "    }\n",
       "\n",
       "    .dataframe tbody tr th {\n",
       "        vertical-align: top;\n",
       "    }\n",
       "\n",
       "    .dataframe thead th {\n",
       "        text-align: right;\n",
       "    }\n",
       "</style>\n",
       "<table border=\"1\" class=\"dataframe\">\n",
       "  <thead>\n",
       "    <tr style=\"text-align: right;\">\n",
       "      <th></th>\n",
       "      <th>department_Finance</th>\n",
       "      <th>department_HR</th>\n",
       "      <th>department_Legal</th>\n",
       "      <th>department_Operations</th>\n",
       "      <th>department_Procurement</th>\n",
       "      <th>department_R&amp;D</th>\n",
       "      <th>department_Sales &amp; Marketing</th>\n",
       "      <th>department_Technology</th>\n",
       "      <th>education_Below Secondary</th>\n",
       "      <th>education_Master's &amp; above</th>\n",
       "      <th>gender_m</th>\n",
       "      <th>recruitment_channel_referred</th>\n",
       "      <th>recruitment_channel_sourcing</th>\n",
       "    </tr>\n",
       "  </thead>\n",
       "  <tbody>\n",
       "    <tr>\n",
       "      <th>0</th>\n",
       "      <td>0</td>\n",
       "      <td>0</td>\n",
       "      <td>0</td>\n",
       "      <td>0</td>\n",
       "      <td>0</td>\n",
       "      <td>0</td>\n",
       "      <td>1</td>\n",
       "      <td>0</td>\n",
       "      <td>0</td>\n",
       "      <td>1</td>\n",
       "      <td>0</td>\n",
       "      <td>0</td>\n",
       "      <td>1</td>\n",
       "    </tr>\n",
       "    <tr>\n",
       "      <th>1</th>\n",
       "      <td>0</td>\n",
       "      <td>0</td>\n",
       "      <td>0</td>\n",
       "      <td>1</td>\n",
       "      <td>0</td>\n",
       "      <td>0</td>\n",
       "      <td>0</td>\n",
       "      <td>0</td>\n",
       "      <td>0</td>\n",
       "      <td>0</td>\n",
       "      <td>1</td>\n",
       "      <td>0</td>\n",
       "      <td>0</td>\n",
       "    </tr>\n",
       "    <tr>\n",
       "      <th>2</th>\n",
       "      <td>0</td>\n",
       "      <td>0</td>\n",
       "      <td>0</td>\n",
       "      <td>0</td>\n",
       "      <td>0</td>\n",
       "      <td>0</td>\n",
       "      <td>1</td>\n",
       "      <td>0</td>\n",
       "      <td>0</td>\n",
       "      <td>0</td>\n",
       "      <td>1</td>\n",
       "      <td>0</td>\n",
       "      <td>1</td>\n",
       "    </tr>\n",
       "    <tr>\n",
       "      <th>3</th>\n",
       "      <td>0</td>\n",
       "      <td>0</td>\n",
       "      <td>0</td>\n",
       "      <td>0</td>\n",
       "      <td>0</td>\n",
       "      <td>0</td>\n",
       "      <td>1</td>\n",
       "      <td>0</td>\n",
       "      <td>0</td>\n",
       "      <td>0</td>\n",
       "      <td>1</td>\n",
       "      <td>0</td>\n",
       "      <td>0</td>\n",
       "    </tr>\n",
       "    <tr>\n",
       "      <th>4</th>\n",
       "      <td>0</td>\n",
       "      <td>0</td>\n",
       "      <td>0</td>\n",
       "      <td>0</td>\n",
       "      <td>0</td>\n",
       "      <td>0</td>\n",
       "      <td>0</td>\n",
       "      <td>1</td>\n",
       "      <td>0</td>\n",
       "      <td>0</td>\n",
       "      <td>1</td>\n",
       "      <td>0</td>\n",
       "      <td>0</td>\n",
       "    </tr>\n",
       "  </tbody>\n",
       "</table>\n",
       "</div>"
      ],
      "text/plain": [
       "   department_Finance  department_HR  ...  recruitment_channel_referred  recruitment_channel_sourcing\n",
       "0                   0              0  ...                             0                             1\n",
       "1                   0              0  ...                             0                             0\n",
       "2                   0              0  ...                             0                             1\n",
       "3                   0              0  ...                             0                             0\n",
       "4                   0              0  ...                             0                             0\n",
       "\n",
       "[5 rows x 13 columns]"
      ]
     },
     "execution_count": 25,
     "metadata": {},
     "output_type": "execute_result"
    }
   ],
   "source": [
    "dummies.head()"
   ]
  },
  {
   "cell_type": "markdown",
   "metadata": {},
   "source": [
    "Combine the dummy variables with original data"
   ]
  },
  {
   "cell_type": "code",
   "execution_count": 11,
   "metadata": {},
   "outputs": [],
   "source": [
    "input_features=pd.concat([pm_data,dummies],axis=1)"
   ]
  },
  {
   "cell_type": "code",
   "execution_count": 27,
   "metadata": {},
   "outputs": [
    {
     "name": "stdout",
     "output_type": "stream",
     "text": [
      "<class 'pandas.core.frame.DataFrame'>\n",
      "Int64Index: 48660 entries, 0 to 54807\n",
      "Data columns (total 27 columns):\n",
      "employee_id                     48660 non-null int64\n",
      "department                      48660 non-null object\n",
      "region                          48660 non-null object\n",
      "education                       48660 non-null object\n",
      "gender                          48660 non-null object\n",
      "recruitment_channel             48660 non-null object\n",
      "no_of_trainings                 48660 non-null int64\n",
      "age                             48660 non-null int64\n",
      "previous_year_rating            48660 non-null float64\n",
      "length_of_service               48660 non-null int64\n",
      "KPIs_met >80%                   48660 non-null int64\n",
      "awards_won?                     48660 non-null int64\n",
      "avg_training_score              48660 non-null int64\n",
      "is_promoted                     48660 non-null int8\n",
      "department_Finance              48660 non-null uint8\n",
      "department_HR                   48660 non-null uint8\n",
      "department_Legal                48660 non-null uint8\n",
      "department_Operations           48660 non-null uint8\n",
      "department_Procurement          48660 non-null uint8\n",
      "department_R&D                  48660 non-null uint8\n",
      "department_Sales & Marketing    48660 non-null uint8\n",
      "department_Technology           48660 non-null uint8\n",
      "education_Below Secondary       48660 non-null uint8\n",
      "education_Master's & above      48660 non-null uint8\n",
      "gender_m                        48660 non-null uint8\n",
      "recruitment_channel_referred    48660 non-null uint8\n",
      "recruitment_channel_sourcing    48660 non-null uint8\n",
      "dtypes: float64(1), int64(7), int8(1), object(5), uint8(13)\n",
      "memory usage: 7.1+ MB\n"
     ]
    }
   ],
   "source": [
    "input_features.info()"
   ]
  },
  {
   "cell_type": "markdown",
   "metadata": {},
   "source": [
    "Drop the original <b>categorical</b> columns."
   ]
  },
  {
   "cell_type": "code",
   "execution_count": 12,
   "metadata": {},
   "outputs": [],
   "source": [
    "input_features.drop(cols, axis=1, inplace=True)"
   ]
  },
  {
   "cell_type": "markdown",
   "metadata": {},
   "source": [
    "Combine the dataset with the normalized values of `age` and `length_of_service` columns."
   ]
  },
  {
   "cell_type": "code",
   "execution_count": 32,
   "metadata": {},
   "outputs": [],
   "source": [
    "input_features.drop(['age','length_of_service'], axis=1, inplace=True)"
   ]
  },
  {
   "cell_type": "code",
   "execution_count": 33,
   "metadata": {},
   "outputs": [],
   "source": [
    "input_features = pd.concat([input_features, fdf_normalized],axis=1)"
   ]
  },
  {
   "cell_type": "code",
   "execution_count": 34,
   "metadata": {},
   "outputs": [
    {
     "name": "stdout",
     "output_type": "stream",
     "text": [
      "<class 'pandas.core.frame.DataFrame'>\n",
      "Int64Index: 48660 entries, 0 to 54807\n",
      "Data columns (total 23 columns):\n",
      "employee_id                     48660 non-null int64\n",
      "region                          48660 non-null object\n",
      "no_of_trainings                 48660 non-null int64\n",
      "previous_year_rating            48660 non-null float64\n",
      "KPIs_met >80%                   48660 non-null int64\n",
      "awards_won?                     48660 non-null int64\n",
      "avg_training_score              48660 non-null int64\n",
      "is_promoted                     48660 non-null int8\n",
      "department_Finance              48660 non-null uint8\n",
      "department_HR                   48660 non-null uint8\n",
      "department_Legal                48660 non-null uint8\n",
      "department_Operations           48660 non-null uint8\n",
      "department_Procurement          48660 non-null uint8\n",
      "department_R&D                  48660 non-null uint8\n",
      "department_Sales & Marketing    48660 non-null uint8\n",
      "department_Technology           48660 non-null uint8\n",
      "education_Below Secondary       48660 non-null uint8\n",
      "education_Master's & above      48660 non-null uint8\n",
      "gender_m                        48660 non-null uint8\n",
      "recruitment_channel_referred    48660 non-null uint8\n",
      "recruitment_channel_sourcing    48660 non-null uint8\n",
      "age                             48660 non-null float64\n",
      "length_of_service               48660 non-null float64\n",
      "dtypes: float64(3), int64(5), int8(1), object(1), uint8(13)\n",
      "memory usage: 5.6+ MB\n"
     ]
    }
   ],
   "source": [
    "input_features.info()"
   ]
  },
  {
   "cell_type": "code",
   "execution_count": 35,
   "metadata": {},
   "outputs": [],
   "source": [
    "y=input_features.loc[:,'is_promoted']\n",
    "input_features.drop(['is_promoted','region','employee_id'],axis=1,inplace=True)\n",
    "X=input_features"
   ]
  },
  {
   "cell_type": "code",
   "execution_count": 36,
   "metadata": {},
   "outputs": [
    {
     "data": {
      "text/html": [
       "<div>\n",
       "<style scoped>\n",
       "    .dataframe tbody tr th:only-of-type {\n",
       "        vertical-align: middle;\n",
       "    }\n",
       "\n",
       "    .dataframe tbody tr th {\n",
       "        vertical-align: top;\n",
       "    }\n",
       "\n",
       "    .dataframe thead th {\n",
       "        text-align: right;\n",
       "    }\n",
       "</style>\n",
       "<table border=\"1\" class=\"dataframe\">\n",
       "  <thead>\n",
       "    <tr style=\"text-align: right;\">\n",
       "      <th></th>\n",
       "      <th>no_of_trainings</th>\n",
       "      <th>previous_year_rating</th>\n",
       "      <th>KPIs_met &gt;80%</th>\n",
       "      <th>awards_won?</th>\n",
       "      <th>avg_training_score</th>\n",
       "      <th>department_Finance</th>\n",
       "      <th>department_HR</th>\n",
       "      <th>department_Legal</th>\n",
       "      <th>department_Operations</th>\n",
       "      <th>department_Procurement</th>\n",
       "      <th>department_R&amp;D</th>\n",
       "      <th>department_Sales &amp; Marketing</th>\n",
       "      <th>department_Technology</th>\n",
       "      <th>education_Below Secondary</th>\n",
       "      <th>education_Master's &amp; above</th>\n",
       "      <th>gender_m</th>\n",
       "      <th>recruitment_channel_referred</th>\n",
       "      <th>recruitment_channel_sourcing</th>\n",
       "      <th>age</th>\n",
       "      <th>length_of_service</th>\n",
       "    </tr>\n",
       "  </thead>\n",
       "  <tbody>\n",
       "    <tr>\n",
       "      <th>0</th>\n",
       "      <td>1</td>\n",
       "      <td>5.0</td>\n",
       "      <td>1</td>\n",
       "      <td>0</td>\n",
       "      <td>49</td>\n",
       "      <td>0</td>\n",
       "      <td>0</td>\n",
       "      <td>0</td>\n",
       "      <td>0</td>\n",
       "      <td>0</td>\n",
       "      <td>0</td>\n",
       "      <td>1</td>\n",
       "      <td>0</td>\n",
       "      <td>0</td>\n",
       "      <td>1</td>\n",
       "      <td>0</td>\n",
       "      <td>0</td>\n",
       "      <td>1</td>\n",
       "      <td>-0.078232</td>\n",
       "      <td>0.401556</td>\n",
       "    </tr>\n",
       "    <tr>\n",
       "      <th>1</th>\n",
       "      <td>1</td>\n",
       "      <td>5.0</td>\n",
       "      <td>0</td>\n",
       "      <td>0</td>\n",
       "      <td>60</td>\n",
       "      <td>0</td>\n",
       "      <td>0</td>\n",
       "      <td>0</td>\n",
       "      <td>1</td>\n",
       "      <td>0</td>\n",
       "      <td>0</td>\n",
       "      <td>0</td>\n",
       "      <td>0</td>\n",
       "      <td>0</td>\n",
       "      <td>0</td>\n",
       "      <td>1</td>\n",
       "      <td>0</td>\n",
       "      <td>0</td>\n",
       "      <td>-0.741846</td>\n",
       "      <td>-0.549756</td>\n",
       "    </tr>\n",
       "    <tr>\n",
       "      <th>2</th>\n",
       "      <td>1</td>\n",
       "      <td>3.0</td>\n",
       "      <td>0</td>\n",
       "      <td>0</td>\n",
       "      <td>50</td>\n",
       "      <td>0</td>\n",
       "      <td>0</td>\n",
       "      <td>0</td>\n",
       "      <td>0</td>\n",
       "      <td>0</td>\n",
       "      <td>0</td>\n",
       "      <td>1</td>\n",
       "      <td>0</td>\n",
       "      <td>0</td>\n",
       "      <td>0</td>\n",
       "      <td>1</td>\n",
       "      <td>0</td>\n",
       "      <td>1</td>\n",
       "      <td>-0.210955</td>\n",
       "      <td>0.163728</td>\n",
       "    </tr>\n",
       "    <tr>\n",
       "      <th>3</th>\n",
       "      <td>2</td>\n",
       "      <td>1.0</td>\n",
       "      <td>0</td>\n",
       "      <td>0</td>\n",
       "      <td>50</td>\n",
       "      <td>0</td>\n",
       "      <td>0</td>\n",
       "      <td>0</td>\n",
       "      <td>0</td>\n",
       "      <td>0</td>\n",
       "      <td>0</td>\n",
       "      <td>1</td>\n",
       "      <td>0</td>\n",
       "      <td>0</td>\n",
       "      <td>0</td>\n",
       "      <td>1</td>\n",
       "      <td>0</td>\n",
       "      <td>0</td>\n",
       "      <td>0.452660</td>\n",
       "      <td>0.877213</td>\n",
       "    </tr>\n",
       "    <tr>\n",
       "      <th>4</th>\n",
       "      <td>1</td>\n",
       "      <td>3.0</td>\n",
       "      <td>0</td>\n",
       "      <td>0</td>\n",
       "      <td>73</td>\n",
       "      <td>0</td>\n",
       "      <td>0</td>\n",
       "      <td>0</td>\n",
       "      <td>0</td>\n",
       "      <td>0</td>\n",
       "      <td>0</td>\n",
       "      <td>0</td>\n",
       "      <td>1</td>\n",
       "      <td>0</td>\n",
       "      <td>0</td>\n",
       "      <td>1</td>\n",
       "      <td>0</td>\n",
       "      <td>0</td>\n",
       "      <td>1.248997</td>\n",
       "      <td>-1.025413</td>\n",
       "    </tr>\n",
       "  </tbody>\n",
       "</table>\n",
       "</div>"
      ],
      "text/plain": [
       "   no_of_trainings  previous_year_rating  KPIs_met >80%  ...  recruitment_channel_sourcing       age  length_of_service\n",
       "0                1                   5.0              1  ...                             1 -0.078232           0.401556\n",
       "1                1                   5.0              0  ...                             0 -0.741846          -0.549756\n",
       "2                1                   3.0              0  ...                             1 -0.210955           0.163728\n",
       "3                2                   1.0              0  ...                             0  0.452660           0.877213\n",
       "4                1                   3.0              0  ...                             0  1.248997          -1.025413\n",
       "\n",
       "[5 rows x 20 columns]"
      ]
     },
     "execution_count": 36,
     "metadata": {},
     "output_type": "execute_result"
    }
   ],
   "source": [
    "X.head()"
   ]
  },
  {
   "cell_type": "markdown",
   "metadata": {},
   "source": [
    "**Train-Test split for training and validation**"
   ]
  },
  {
   "cell_type": "markdown",
   "metadata": {},
   "source": [
    "Since we are dealing with an imbalanced dataset, we will use the <b>stratify</b> parameter to ensure equal distribution of classes in the training and test datasets"
   ]
  },
  {
   "cell_type": "code",
   "execution_count": 37,
   "metadata": {},
   "outputs": [
    {
     "name": "stdout",
     "output_type": "stream",
     "text": [
      "(34062, 20)\n",
      "(14598, 20)\n",
      "(34062,)\n",
      "(14598,)\n"
     ]
    }
   ],
   "source": [
    "x_train,x_test,y_train,y_test=train_test_split(X,y,test_size=0.3,random_state=1234,stratify=y)\n",
    "print(x_train.shape)\n",
    "print(x_test.shape)\n",
    "print(y_train.shape)\n",
    "print(y_test.shape)"
   ]
  },
  {
   "cell_type": "markdown",
   "metadata": {},
   "source": [
    "## Logistic Regression"
   ]
  },
  {
   "cell_type": "markdown",
   "metadata": {},
   "source": [
    "Since it is an imbalanced dataset, we will set the <b>class_weight</b> parameter to 'balanced'"
   ]
  },
  {
   "cell_type": "code",
   "execution_count": 38,
   "metadata": {},
   "outputs": [],
   "source": [
    "from sklearn.linear_model import LogisticRegression\n",
    "lr = LogisticRegression(random_state=101,class_weight='balanced')"
   ]
  },
  {
   "cell_type": "code",
   "execution_count": 39,
   "metadata": {},
   "outputs": [
    {
     "name": "stderr",
     "output_type": "stream",
     "text": [
      "C:\\Users\\Prerna\\Anaconda3\\lib\\site-packages\\sklearn\\linear_model\\logistic.py:432: FutureWarning: Default solver will be changed to 'lbfgs' in 0.22. Specify a solver to silence this warning.\n",
      "  FutureWarning)\n"
     ]
    }
   ],
   "source": [
    "lr_model=lr.fit(x_train,y_train)"
   ]
  },
  {
   "cell_type": "code",
   "execution_count": 40,
   "metadata": {},
   "outputs": [],
   "source": [
    "lr_pred=lr_model.predict(x_test)"
   ]
  },
  {
   "cell_type": "code",
   "execution_count": 41,
   "metadata": {},
   "outputs": [
    {
     "name": "stdout",
     "output_type": "stream",
     "text": [
      "0.7595561035758323\n",
      "********************************************\n",
      "Confusion matrix\n"
     ]
    },
    {
     "data": {
      "image/png": "[encoded data removed]",
      "text/plain": [
       "<Figure size 432x288 with 2 Axes>"
      ]
     },
     "metadata": {
      "needs_background": "light"
     },
     "output_type": "display_data"
    },
    {
     "name": "stdout",
     "output_type": "stream",
     "text": [
      "**********************************************\n",
      "              precision    recall  f1-score   support\n",
      "\n",
      "           0       0.98      0.75      0.85     13328\n",
      "           1       0.24      0.83      0.38      1270\n",
      "\n",
      "    accuracy                           0.76     14598\n",
      "   macro avg       0.61      0.79      0.61     14598\n",
      "weighted avg       0.92      0.76      0.81     14598\n",
      "\n"
     ]
    }
   ],
   "source": [
    "print(metrics.accuracy_score(y_test,lr_pred))\n",
    "print('********************************************')\n",
    "print('Confusion matrix')\n",
    "lr_cfm=metrics.confusion_matrix(y_test, lr_pred)\n",
    "\n",
    "\n",
    "lbl1=[\"Predicted 1\", \"Predicted 2\"]\n",
    "lbl2=[\"Actual 1\", \"Actual 2\"]\n",
    "\n",
    "sns.heatmap(lr_cfm, annot=True, cmap=\"Blues\", fmt=\"d\", xticklabels=lbl1, yticklabels=lbl2)\n",
    "plt.show()\n",
    "\n",
    "print('**********************************************')\n",
    "print(metrics.classification_report(y_test,lr_pred))"
   ]
  },
  {
   "cell_type": "markdown",
   "metadata": {},
   "source": [
    "<b>Accuracy</b> is not so great here. Also, since this is an imbalanced dataset, we need to pay attention to the <b>f1-score</b> for class 1. It is also not so good."
   ]
  },
  {
   "cell_type": "markdown",
   "metadata": {},
   "source": [
    "This might be due to the fact that there are a lot of <b>categorical variables</b> in the dataset. As there is a lot of <b>non-linearity</b>, let us use <b>tree</b> algorithms."
   ]
  },
  {
   "cell_type": "markdown",
   "metadata": {},
   "source": [
    "## Random Forest"
   ]
  },
  {
   "cell_type": "markdown",
   "metadata": {},
   "source": [
    "We will try the <b>Bagging</b> technique <b>Random Forest</b> on the dataset. Since we do not know the optimal hyperparameters for the forest, let us use GridSearch cross-validation to identify them."
   ]
  },
  {
   "cell_type": "markdown",
   "metadata": {
    "colab_type": "text",
    "id": "Off2h9DJ56_X"
   },
   "source": [
    "#### GridSearchCV"
   ]
  },
  {
   "cell_type": "code",
   "execution_count": null,
   "metadata": {
    "colab": {
     "base_uri": "https://localhost:8080/",
     "height": 136
    },
    "colab_type": "code",
    "executionInfo": {
     "elapsed": 204505,
     "status": "ok",
     "timestamp": 1564210789764,
     "user": {
      "displayName": "Lavi Nigam",
      "photoUrl": "https://lh6.googleusercontent.com/-VVDbL0W4k54/AAAAAAAAAAI/AAAAAAAAClE/dqqBdY5uP8E/s64/photo.jpg",
      "userId": "01031927567449846531"
     },
     "user_tz": -330
    },
    "id": "FriN-h7E56_Y",
    "outputId": "582a398d-a627-4997-d33c-0e16d50644bd",
    "scrolled": true
   },
   "outputs": [
    {
     "name": "stdout",
     "output_type": "stream",
     "text": [
      "Fitting 5 folds for each of 360 candidates, totalling 1800 fits\n"
     ]
    },
    {
     "name": "stderr",
     "output_type": "stream",
     "text": [
      "[Parallel(n_jobs=-1)]: Using backend LokyBackend with 4 concurrent workers.\n",
      "[Parallel(n_jobs=-1)]: Done  33 tasks      | elapsed:    8.7s\n",
      "[Parallel(n_jobs=-1)]: Done 154 tasks      | elapsed:   26.8s\n",
      "[Parallel(n_jobs=-1)]: Done 357 tasks      | elapsed:   56.7s\n",
      "[Parallel(n_jobs=-1)]: Done 640 tasks      | elapsed:  1.8min\n",
      "[Parallel(n_jobs=-1)]: Done 1005 tasks      | elapsed:  3.2min\n"
     ]
    }
   ],
   "source": [
    "from sklearn.ensemble import RandomForestClassifier\n",
    "random_grid = {'n_estimators': range(5,20,3),\n",
    "              'max_features' : ['auto', 'sqrt'],\n",
    "              'max_depth' : [5,10,20,30],\n",
    "              'min_samples_split':[2,5,10],\n",
    "              'criterion':['entropy'],\n",
    "              'min_samples_leaf':[1,2,4]}\n",
    "\n",
    "rf=RandomForestClassifier(oob_score=True,class_weight='balanced')\n",
    "rf_gs = GridSearchCV(rf, random_grid, cv = 5, n_jobs=-1, verbose=2)\n",
    "\n",
    "rf_gs.fit(x_train, y_train)\n",
    "y_pred = rf_gs.predict(x_test)\n"
   ]
  },
  {
   "cell_type": "code",
   "execution_count": null,
   "metadata": {
    "colab": {
     "base_uri": "https://localhost:8080/",
     "height": 578
    },
    "colab_type": "code",
    "executionInfo": {
     "elapsed": 1722,
     "status": "ok",
     "timestamp": 1564210795591,
     "user": {
      "displayName": "Lavi Nigam",
      "photoUrl": "https://lh6.googleusercontent.com/-VVDbL0W4k54/AAAAAAAAAAI/AAAAAAAAClE/dqqBdY5uP8E/s64/photo.jpg",
      "userId": "01031927567449846531"
     },
     "user_tz": -330
    },
    "id": "dJKZzGj1iqQ1",
    "outputId": "a9324ad9-0c42-4106-a73f-ffd5c0d2f8ff"
   },
   "outputs": [],
   "source": [
    "print(metrics.accuracy_score(y_test,y_pred))\n",
    "print('*******************************************')\n",
    "print('Confusion matrix')\n",
    "rf_cfm=metrics.confusion_matrix(y_test, y_pred)\n",
    "\n",
    "lbl1=[\"Predicted 1\", \"Predicted 2\"]\n",
    "lbl2=[\"Actual 1\", \"Actual 2\"]\n",
    "\n",
    "sns.heatmap(rf_cfm, annot=True, cmap=\"Blues\", fmt=\"d\", xticklabels=lbl1, yticklabels=lbl2)\n",
    "plt.show()\n",
    "\n",
    "print('********************************************')\n",
    "print(metrics.classification_report(y_test,y_pred))"
   ]
  },
  {
   "cell_type": "markdown",
   "metadata": {},
   "source": [
    "That seems to be a great accuracy score! But hold on...we need to remember that it is an imbalanced dataset. Let us calculate the null accuracy."
   ]
  },
  {
   "cell_type": "code",
   "execution_count": null,
   "metadata": {},
   "outputs": [],
   "source": [
    "# Actual Values of y_test\n",
    "print (y_test.value_counts())\n",
    "print (\"Null Accuracy:\",y_test.value_counts().head(1) / len(y_test))"
   ]
  },
  {
   "cell_type": "markdown",
   "metadata": {},
   "source": [
    "<b>Null accuracy</b> itself is close to 0.91. So our accuracy of 0.92 is not a big deal. Also, as discussed earlier, f1-score is more important in these scenarios. But even that is pretty low. By the way, is <b>f1-score</b> still the right metric in this scenario?"
   ]
  },
  {
   "cell_type": "markdown",
   "metadata": {},
   "source": [
    "For imbalanced datasets, <b>ROC_AUC</b> is considered to be a more relevant metric than <b>f1-score and accuracy<b> as it is independent of threshold value. "
   ]
  },
  {
   "cell_type": "code",
   "execution_count": null,
   "metadata": {},
   "outputs": [],
   "source": [
    "predict_probabilities = rf_gs.predict_proba(x_test)\n",
    "final_metric = roc_auc_score(y_test, predict_probabilities[:,1])\n",
    "print (final_metric)"
   ]
  },
  {
   "cell_type": "markdown",
   "metadata": {},
   "source": [
    "Now, this is a metric that makes sense. We should get the <b>ROC_AUC</b> score as close to 1 as possible. Let us now see how <b>Boosting</b> algorithms fare."
   ]
  },
  {
   "cell_type": "markdown",
   "metadata": {
    "colab_type": "text",
    "id": "rIIq4LxpF7rG"
   },
   "source": [
    "**XGBoost**<br/>"
   ]
  },
  {
   "cell_type": "code",
   "execution_count": null,
   "metadata": {
    "colab": {},
    "colab_type": "code",
    "id": "EYwZGz5-R0M2"
   },
   "outputs": [],
   "source": [
    "from xgboost.sklearn import XGBClassifier"
   ]
  },
  {
   "cell_type": "code",
   "execution_count": null,
   "metadata": {
    "colab": {},
    "colab_type": "code",
    "id": "3NLffyg3_0Ys"
   },
   "outputs": [],
   "source": [
    "xgb_model = XGBClassifier(num_class = 2,\n",
    "                           objective=\"multi:softprob\",\n",
    "                           eval_metric=\"mlogloss\",\n",
    "                           seed=42) "
   ]
  },
  {
   "cell_type": "code",
   "execution_count": null,
   "metadata": {
    "colab": {
     "base_uri": "https://localhost:8080/",
     "height": 136
    },
    "colab_type": "code",
    "executionInfo": {
     "elapsed": 5299,
     "status": "ok",
     "timestamp": 1564210929657,
     "user": {
      "displayName": "Lavi Nigam",
      "photoUrl": "https://lh6.googleusercontent.com/-VVDbL0W4k54/AAAAAAAAAAI/AAAAAAAAClE/dqqBdY5uP8E/s64/photo.jpg",
      "userId": "01031927567449846531"
     },
     "user_tz": -330
    },
    "id": "vV3in4Rc_8XX",
    "outputId": "aef0f7c7-0d7f-4312-8f02-1dae8396f28f"
   },
   "outputs": [],
   "source": [
    "xgb_model.fit(x_train, y_train)"
   ]
  },
  {
   "cell_type": "code",
   "execution_count": 268,
   "metadata": {
    "colab": {},
    "colab_type": "code",
    "id": "7VYhxCo2F7ZQ"
   },
   "outputs": [],
   "source": [
    "xgboost_pred=xgb_model.predict(x_test)"
   ]
  },
  {
   "cell_type": "code",
   "execution_count": 269,
   "metadata": {
    "colab": {
     "base_uri": "https://localhost:8080/",
     "height": 595
    },
    "colab_type": "code",
    "executionInfo": {
     "elapsed": 1813,
     "status": "ok",
     "timestamp": 1564211090867,
     "user": {
      "displayName": "Lavi Nigam",
      "photoUrl": "https://lh6.googleusercontent.com/-VVDbL0W4k54/AAAAAAAAAAI/AAAAAAAAClE/dqqBdY5uP8E/s64/photo.jpg",
      "userId": "01031927567449846531"
     },
     "user_tz": -330
    },
    "id": "Aw7QrpDPF7fs",
    "outputId": "3f5f1824-e87e-4adc-a9b8-f9051c2a27a2"
   },
   "outputs": [
    {
     "name": "stdout",
     "output_type": "stream",
     "text": [
      "0.9391697492807234\n",
      "************\n",
      "Confusion matrix\n"
     ]
    },
    {
     "data": {
      "image/png": "[encoded data removed]",
      "text/plain": [
       "<Figure size 432x288 with 2 Axes>"
      ]
     },
     "metadata": {
      "needs_background": "light"
     },
     "output_type": "display_data"
    },
    {
     "name": "stdout",
     "output_type": "stream",
     "text": [
      "************\n",
      " Classification report\n",
      "              precision    recall  f1-score   support\n",
      "\n",
      "           0       0.94      1.00      0.97     13328\n",
      "           1       0.98      0.31      0.47      1270\n",
      "\n",
      "    accuracy                           0.94     14598\n",
      "   macro avg       0.96      0.65      0.72     14598\n",
      "weighted avg       0.94      0.94      0.92     14598\n",
      "\n"
     ]
    }
   ],
   "source": [
    "print(metrics.accuracy_score(y_test,xgboost_pred))\n",
    "print('************')\n",
    "print('Confusion matrix')\n",
    "xgboost_cm=metrics.confusion_matrix(y_test, xgboost_pred)\n",
    "\n",
    "\n",
    "lbl1=[\"Predicted 1\", \"Predicted 2\"]\n",
    "lbl2=[\"Actual 1\", \"Actual 2\"]\n",
    "\n",
    "sns.heatmap(xgboost_cm, annot=True, cmap=\"Blues\", fmt=\"d\", xticklabels=lbl1, yticklabels=lbl2)\n",
    "\n",
    "plt.show()\n",
    "\n",
    "print('************\\n Classification report')\n",
    "print(metrics.classification_report(y_test,xgboost_pred))"
   ]
  },
  {
   "cell_type": "code",
   "execution_count": 270,
   "metadata": {},
   "outputs": [
    {
     "name": "stdout",
     "output_type": "stream",
     "text": [
      "0.9059446810220151\n"
     ]
    }
   ],
   "source": [
    "predict_probabilities = xgb_model.predict_proba(x_test)\n",
    "from sklearn.metrics import roc_auc_score\n",
    "final_metric = roc_auc_score(y_test, predict_probabilities[:,1])\n",
    "print (final_metric)"
   ]
  },
  {
   "cell_type": "markdown",
   "metadata": {},
   "source": [
    "Hurray! <b>Xgboost</b> gave us a higher ROC_AUC score compared to Random Forest. Let us see if we can make this better by tuning the real strengths of Xgboost - its <b>Hyperparameters.</b> "
   ]
  },
  {
   "cell_type": "markdown",
   "metadata": {
    "colab_type": "text",
    "id": "czzmRA7v2Oev"
   },
   "source": [
    "**XgBoost with Grid Search**"
   ]
  },
  {
   "cell_type": "code",
   "execution_count": 181,
   "metadata": {
    "colab": {
     "base_uri": "https://localhost:8080/",
     "height": 425
    },
    "colab_type": "code",
    "executionInfo": {
     "elapsed": 600452,
     "status": "ok",
     "timestamp": 1564211846825,
     "user": {
      "displayName": "Lavi Nigam",
      "photoUrl": "https://lh6.googleusercontent.com/-VVDbL0W4k54/AAAAAAAAAAI/AAAAAAAAClE/dqqBdY5uP8E/s64/photo.jpg",
      "userId": "01031927567449846531"
     },
     "user_tz": -330
    },
    "id": "zPRiH5KnR0Jr",
    "outputId": "d77e435a-8e1a-41d4-e31f-3805b5934f7b"
   },
   "outputs": [
    {
     "name": "stdout",
     "output_type": "stream",
     "text": [
      "Fitting 5 folds for each of 36 candidates, totalling 180 fits\n"
     ]
    },
    {
     "name": "stderr",
     "output_type": "stream",
     "text": [
      "[Parallel(n_jobs=-1)]: Using backend LokyBackend with 4 concurrent workers.\n",
      "[Parallel(n_jobs=-1)]: Done  33 tasks      | elapsed:   40.4s\n",
      "[Parallel(n_jobs=-1)]: Done 154 tasks      | elapsed:  3.5min\n",
      "[Parallel(n_jobs=-1)]: Done 180 out of 180 | elapsed:  4.3min finished\n"
     ]
    },
    {
     "data": {
      "text/plain": [
       "{'gamma': 0.05, 'learning_rate': 0.05, 'max_depth': 15, 'n_estimators': 15}"
      ]
     },
     "execution_count": 181,
     "metadata": {},
     "output_type": "execute_result"
    }
   ],
   "source": [
    "xgb_gs_clf = XGBClassifier(num_class = 2,\n",
    "                           objective=\"multi:softprob\",\n",
    "                           eval_metric=\"mlogloss\",\n",
    "                           seed=42)                         \n",
    "                        \n",
    "param_grid = {\"max_depth\": [10,15,20],\n",
    "              \"n_estimators\": range(5,20,5) , \n",
    "              \"gamma\": [0.03,0.05], \n",
    "              \"learning_rate\": [0.01,0.05]}\n",
    "#              \"min_child_weight\": [5,10], \n",
    "#              \"colsample_bytree\": [0.4,0.8], \n",
    "#              \"subsample\": [0.50,0.85]} \n",
    "\n",
    "grid_search = GridSearchCV(xgb_gs_clf, \n",
    "                           param_grid=param_grid,\n",
    "                           cv = 5,\n",
    "                           n_jobs=-1,\n",
    "                           scoring='neg_log_loss',\n",
    "                           verbose=2)\n",
    "grid_search.fit(x_train,y_train)\n",
    "grid_search.best_params_"
   ]
  },
  {
   "cell_type": "code",
   "execution_count": 182,
   "metadata": {
    "colab": {},
    "colab_type": "code",
    "id": "opGu5dFoR0Hg"
   },
   "outputs": [],
   "source": [
    "xgboost_y_pred=grid_search.predict(x_test)                                      # Validating the model by predicting the test data"
   ]
  },
  {
   "cell_type": "code",
   "execution_count": 183,
   "metadata": {
    "colab": {
     "base_uri": "https://localhost:8080/",
     "height": 595
    },
    "colab_type": "code",
    "executionInfo": {
     "elapsed": 1413,
     "status": "ok",
     "timestamp": 1564212251279,
     "user": {
      "displayName": "Lavi Nigam",
      "photoUrl": "https://lh6.googleusercontent.com/-VVDbL0W4k54/AAAAAAAAAAI/AAAAAAAAClE/dqqBdY5uP8E/s64/photo.jpg",
      "userId": "01031927567449846531"
     },
     "user_tz": -330
    },
    "id": "ofX0Girgh7lJ",
    "outputId": "e399c9b1-dc62-4c83-ff23-b111ab7688c5"
   },
   "outputs": [
    {
     "name": "stdout",
     "output_type": "stream",
     "text": [
      "0.9366351555007535\n",
      "*************************************************\n",
      "Confusion matrix\n"
     ]
    },
    {
     "data": {
      "image/png": "[encoded data removed]",
      "text/plain": [
       "<Figure size 432x288 with 2 Axes>"
      ]
     },
     "metadata": {
      "needs_background": "light"
     },
     "output_type": "display_data"
    },
    {
     "name": "stdout",
     "output_type": "stream",
     "text": [
      "***************************************************\n",
      " Classification report\n",
      "              precision    recall  f1-score   support\n",
      "\n",
      "           0       0.94      0.99      0.97     13304\n",
      "           1       0.82      0.36      0.50      1294\n",
      "\n",
      "    accuracy                           0.94     14598\n",
      "   macro avg       0.88      0.68      0.74     14598\n",
      "weighted avg       0.93      0.94      0.93     14598\n",
      "\n"
     ]
    }
   ],
   "source": [
    "print(metrics.accuracy_score(y_test,xgboost_y_pred))\n",
    "print('*************************************************')\n",
    "print('Confusion matrix')\n",
    "xgboost_cfm=metrics.confusion_matrix(y_test, xgboost_y_pred)\n",
    "\n",
    "\n",
    "lbl1=[\"Predicted 1\", \"Predicted 2\"]\n",
    "lbl2=[\"Actual 1\", \"Actual 2\"]\n",
    "\n",
    "sns.heatmap(xgboost_cfm, annot=True, cmap=\"Blues\", fmt=\"d\", xticklabels=lbl1, yticklabels=lbl2)\n",
    "\n",
    "plt.show()\n",
    "\n",
    "print('***************************************************\\n Classification report')\n",
    "print(metrics.classification_report(y_test,xgboost_y_pred))"
   ]
  },
  {
   "cell_type": "code",
   "execution_count": 185,
   "metadata": {},
   "outputs": [
    {
     "name": "stdout",
     "output_type": "stream",
     "text": [
      "0.8953667349467127\n"
     ]
    }
   ],
   "source": [
    "predict_probabilities = grid_search.predict_proba(x_test)\n",
    "final_metric = roc_auc_score(y_test, predict_probabilities[:,1])\n",
    "print (final_metric)"
   ]
  },
  {
   "cell_type": "markdown",
   "metadata": {},
   "source": [
    "Not much of an improvement over the earlier Xgboost model. Try out with <b>more hyperparameter combinations</b> and you will surely see a jump in the roc_auc value."
   ]
  },
  {
   "cell_type": "markdown",
   "metadata": {},
   "source": [
    "Finally, let us see how <b>LightGBM</b> fares"
   ]
  },
  {
   "cell_type": "markdown",
   "metadata": {
    "colab_type": "text",
    "id": "XwL-9jljtbV3"
   },
   "source": [
    "**LightGBM**"
   ]
  },
  {
   "cell_type": "code",
   "execution_count": 186,
   "metadata": {
    "colab": {},
    "colab_type": "code",
    "id": "Qzh3_x4itSEu"
   },
   "outputs": [],
   "source": [
    "import lightgbm as lgb\n",
    "\n",
    "d_train= lgb.Dataset(x_train, label = y_train)                                        # LightGBM dataset format"
   ]
  },
  {
   "cell_type": "code",
   "execution_count": 187,
   "metadata": {
    "colab": {},
    "colab_type": "code",
    "id": "W4HoSHIRtSBk"
   },
   "outputs": [],
   "source": [
    "params = {}\n",
    "params['learning_rate'] = 0.001                                             # Learning rate\n",
    "params['boosting_type'] = 'gbdt'                                           # gbdt = gradient boosted decision tree\n",
    "params['objective'] = 'multiclass'                                         # Multi class classification\n",
    "params['metric'] = 'multi_logloss'\n",
    "params['num_classes'] = 5 \n",
    "params['eval_metric']='auc', 'binary_logloss'\n",
    "#params['sub_feature'] = 0.5\n",
    "#params['min_data'] = 50\n",
    "#params['max_depth'] = 10\n",
    "\n",
    "\n",
    "clf = lgb.train(params, d_train)                                                      # Training the model for 10 iterations"
   ]
  },
  {
   "cell_type": "code",
   "execution_count": 188,
   "metadata": {
    "colab": {},
    "colab_type": "code",
    "id": "GcYXl0ixtR-0"
   },
   "outputs": [],
   "source": [
    "#Prediction\n",
    "y_pred=clf.predict(x_test)"
   ]
  },
  {
   "cell_type": "code",
   "execution_count": 189,
   "metadata": {},
   "outputs": [
    {
     "data": {
      "text/plain": [
       "{'learning_rate': 0.001,\n",
       " 'boosting_type': 'gbdt',\n",
       " 'objective': 'multiclass',\n",
       " 'metric': 'multi_logloss',\n",
       " 'num_classes': 5,\n",
       " 'eval_metric': ('auc', 'binary_logloss')}"
      ]
     },
     "execution_count": 189,
     "metadata": {},
     "output_type": "execute_result"
    }
   ],
   "source": [
    "clf.params"
   ]
  },
  {
   "cell_type": "code",
   "execution_count": 198,
   "metadata": {
    "colab": {},
    "colab_type": "code",
    "id": "iiOklR11tR70"
   },
   "outputs": [],
   "source": [
    "predictions = []\n",
    "predictions_proba = []\n",
    "for x in y_pred:\n",
    "    predictions.append(np.argmax(x))\n",
    "    predictions_proba.append(max(x))"
   ]
  },
  {
   "cell_type": "code",
   "execution_count": 193,
   "metadata": {
    "colab": {},
    "colab_type": "code",
    "id": "EzEwM9jgtRyg"
   },
   "outputs": [],
   "source": [
    "lgb_y_pred = np.array(predictions)"
   ]
  },
  {
   "cell_type": "code",
   "execution_count": 194,
   "metadata": {
    "colab": {
     "base_uri": "https://localhost:8080/",
     "height": 595
    },
    "colab_type": "code",
    "executionInfo": {
     "elapsed": 1378,
     "status": "ok",
     "timestamp": 1564212283069,
     "user": {
      "displayName": "Lavi Nigam",
      "photoUrl": "https://lh6.googleusercontent.com/-VVDbL0W4k54/AAAAAAAAAAI/AAAAAAAAClE/dqqBdY5uP8E/s64/photo.jpg",
      "userId": "01031927567449846531"
     },
     "user_tz": -330
    },
    "id": "mCvmQCqRtRu0",
    "outputId": "a1671a11-0efb-4ef6-e010-c84efc1f9039"
   },
   "outputs": [
    {
     "name": "stdout",
     "output_type": "stream",
     "text": [
      "0.9113577202356488\n",
      "*************************************************\n",
      "Confusion matrix\n"
     ]
    },
    {
     "data": {
      "image/png": "[encoded data removed]",
      "text/plain": [
       "<Figure size 432x288 with 2 Axes>"
      ]
     },
     "metadata": {
      "needs_background": "light"
     },
     "output_type": "display_data"
    },
    {
     "name": "stdout",
     "output_type": "stream",
     "text": [
      "***************************************************\n",
      " Classification report\n",
      "              precision    recall  f1-score   support\n",
      "\n",
      "           0       0.91      1.00      0.95     13304\n",
      "           1       0.00      0.00      0.00      1294\n",
      "\n",
      "    accuracy                           0.91     14598\n",
      "   macro avg       0.46      0.50      0.48     14598\n",
      "weighted avg       0.83      0.91      0.87     14598\n",
      "\n"
     ]
    },
    {
     "name": "stderr",
     "output_type": "stream",
     "text": [
      "C:\\Users\\saicharantej\\ML\\lib\\site-packages\\sklearn\\metrics\\_classification.py:1272: UndefinedMetricWarning: Precision and F-score are ill-defined and being set to 0.0 in labels with no predicted samples. Use `zero_division` parameter to control this behavior.\n",
      "  _warn_prf(average, modifier, msg_start, len(result))\n"
     ]
    }
   ],
   "source": [
    "print(metrics.accuracy_score(y_test,lgb_y_pred))\n",
    "print('*************************************************')\n",
    "print('Confusion matrix')\n",
    "lgb_cfm=metrics.confusion_matrix(y_test, lgb_y_pred)\n",
    "\n",
    "\n",
    "lbl1=[\"Predicted 1\", \"Predicted 2\"]\n",
    "lbl2=[\"Actual 1\", \"Actual 2\"]\n",
    "\n",
    "sns.heatmap(lgb_cfm, annot=True, cmap=\"Blues\", fmt=\"d\", xticklabels=lbl1, yticklabels=lbl2)\n",
    "\n",
    "plt.show()\n",
    "\n",
    "print('***************************************************\\n Classification report')\n",
    "print(metrics.classification_report(y_test,lgb_y_pred))"
   ]
  },
  {
   "cell_type": "code",
   "execution_count": 196,
   "metadata": {},
   "outputs": [
    {
     "name": "stdout",
     "output_type": "stream",
     "text": [
      "0.11707243571095978\n"
     ]
    }
   ],
   "source": [
    "final_metric = roc_auc_score(y_test, predictions_proba)\n",
    "print (final_metric)"
   ]
  },
  {
   "cell_type": "markdown",
   "metadata": {},
   "source": [
    "<b>LightGBM</b> performance is not upto the mark.It is unable to correctly classify even a single datapoint that belonged to class 1. We can conclude that <b>Palmer Tech</b> can use the <b>XGboost</b> model to identify the promotion candidates."
   ]
  }
 ],
 "metadata": {
  "accelerator": "GPU",
  "colab": {
   "collapsed_sections": [],
   "name": "Mining_Classification_xgboost.ipynb",
   "provenance": [],
   "version": "0.3.2"
  },
  "kernelspec": {
   "display_name": "Python 3",
   "language": "python",
   "name": "python3"
  },
  "language_info": {
   "codemirror_mode": {
    "name": "ipython",
    "version": 3
   },
   "file_extension": ".py",
   "mimetype": "text/x-python",
   "name": "python",
   "nbconvert_exporter": "python",
   "pygments_lexer": "ipython3",
   "version": "3.7.7"
  }
 },
 "nbformat": 4,
 "nbformat_minor": 1
}
